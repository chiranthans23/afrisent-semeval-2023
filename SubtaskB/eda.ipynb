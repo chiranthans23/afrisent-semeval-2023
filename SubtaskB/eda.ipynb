{
 "cells": [
  {
   "cell_type": "code",
   "execution_count": 2,
   "metadata": {},
   "outputs": [
    {
     "data": {
      "text/html": [
       "<div>\n",
       "<style scoped>\n",
       "    .dataframe tbody tr th:only-of-type {\n",
       "        vertical-align: middle;\n",
       "    }\n",
       "\n",
       "    .dataframe tbody tr th {\n",
       "        vertical-align: top;\n",
       "    }\n",
       "\n",
       "    .dataframe thead th {\n",
       "        text-align: right;\n",
       "    }\n",
       "</style>\n",
       "<table border=\"1\" class=\"dataframe\">\n",
       "  <thead>\n",
       "    <tr style=\"text-align: right;\">\n",
       "      <th></th>\n",
       "      <th>text</th>\n",
       "      <th>label</th>\n",
       "    </tr>\n",
       "  </thead>\n",
       "  <tbody>\n",
       "    <tr>\n",
       "      <th>mul_train_00001</th>\n",
       "      <td>if i dey enter your eye or you like me and no ...</td>\n",
       "      <td>positive</td>\n",
       "    </tr>\n",
       "    <tr>\n",
       "      <th>mul_train_00002</th>\n",
       "      <td>@user @user Ndi igbo is na ara di na udi</td>\n",
       "      <td>negative</td>\n",
       "    </tr>\n",
       "    <tr>\n",
       "      <th>mul_train_00003</th>\n",
       "      <td>كاملين بيوكوم عنستفكوم من فوق شواية الا بنكيرا...</td>\n",
       "      <td>negative</td>\n",
       "    </tr>\n",
       "    <tr>\n",
       "      <th>mul_train_00004</th>\n",
       "      <td>SAMIA ATOA ANGALIZO KUIKABILI SARATANI Makamu ...</td>\n",
       "      <td>neutral</td>\n",
       "    </tr>\n",
       "    <tr>\n",
       "      <th>mul_train_00005</th>\n",
       "      <td>5. Dùnùndún, ọ̀jọ̀jọ̀, ____ Ẹ̀bà, ____, àmàlà ...</td>\n",
       "      <td>neutral</td>\n",
       "    </tr>\n",
       "  </tbody>\n",
       "</table>\n",
       "</div>"
      ],
      "text/plain": [
       "                                                              text     label\n",
       "mul_train_00001  if i dey enter your eye or you like me and no ...  positive\n",
       "mul_train_00002           @user @user Ndi igbo is na ara di na udi  negative\n",
       "mul_train_00003  كاملين بيوكوم عنستفكوم من فوق شواية الا بنكيرا...  negative\n",
       "mul_train_00004  SAMIA ATOA ANGALIZO KUIKABILI SARATANI Makamu ...   neutral\n",
       "mul_train_00005  5. Dùnùndún, ọ̀jọ̀jọ̀, ____ Ẹ̀bà, ____, àmàlà ...   neutral"
      ]
     },
     "execution_count": 2,
     "metadata": {},
     "output_type": "execute_result"
    }
   ],
   "source": [
    "import pandas as pd\n",
    "\n",
    "df = pd.read_csv(\"multilingual_train.tsv\", sep='\\t', names=['text', 'label'], header=0)\n",
    "df.head()"
   ]
  },
  {
   "cell_type": "code",
   "execution_count": 7,
   "metadata": {},
   "outputs": [
    {
     "name": "stdout",
     "output_type": "stream",
     "text": [
      "Number of total examples 63685\n",
      "# Positive examples 20783\n",
      "# Negative examples 20108\n",
      "# Neutral examples 22794\n"
     ]
    }
   ],
   "source": [
    "print(f\"Number of total examples {len(df)}\")\n",
    "print(f\"# Positive examples {len(df[df['label'] == 'positive'])}\")\n",
    "\n",
    "print(f\"# Negative examples {len(df[df['label'] == 'negative'])}\")\n",
    "\n",
    "print(f\"# Neutral examples {len(df[df['label'] == 'neutral'])}\")"
   ]
  },
  {
   "cell_type": "code",
   "execution_count": 8,
   "metadata": {},
   "outputs": [
    {
     "data": {
      "text/plain": [
       "<AxesSubplot:xlabel='text', ylabel='Count'>"
      ]
     },
     "execution_count": 8,
     "metadata": {},
     "output_type": "execute_result"
    },
    {
     "data": {
      "image/png": "[encoded data removed]",
      "text/plain": [
       "<Figure size 640x480 with 1 Axes>"
      ]
     },
     "metadata": {},
     "output_type": "display_data"
    }
   ],
   "source": [
    "import seaborn as sns\n",
    "\n",
    "sns.histplot(data=df, x=df['text'].apply(lambda x: len(x)), kde=True)"
   ]
  },
  {
   "cell_type": "code",
   "execution_count": 10,
   "metadata": {},
   "outputs": [
    {
     "name": "stdout",
     "output_type": "stream",
     "text": [
      "Max length of tweet: 771\n",
      "Minimum length of tweet: 1\n",
      "Average length of tweet: 85.83788961293868\n"
     ]
    }
   ],
   "source": [
    "print(f\"Max length of tweet: {df['text'].apply(lambda x: len(x)).max()}\")\n",
    "print(f\"Minimum length of tweet: {df['text'].apply(lambda x: len(x)).min()}\")\n",
    "print(f\"Average length of tweet: {df['text'].apply(lambda x: len(x)).mean()}\")"
   ]
  },
  {
   "cell_type": "code",
   "execution_count": 3,
   "metadata": {},
   "outputs": [
    {
     "data": {
      "text/plain": [
       "True"
      ]
     },
     "execution_count": 3,
     "metadata": {},
     "output_type": "execute_result"
    }
   ],
   "source": [
    "'text' in df"
   ]
  },
  {
   "cell_type": "code",
   "execution_count": null,
   "metadata": {},
   "outputs": [],
   "source": []
  }
 ],
 "metadata": {
  "kernelspec": {
   "display_name": "Python 3.7.12 ('base')",
   "language": "python",
   "name": "python3"
  },
  "language_info": {
   "codemirror_mode": {
    "name": "ipython",
    "version": 3
   },
   "file_extension": ".py",
   "mimetype": "text/x-python",
   "name": "python",
   "nbconvert_exporter": "python",
   "pygments_lexer": "ipython3",
   "version": "3.7.12"
  },
  "orig_nbformat": 4,
  "vscode": {
   "interpreter": {
    "hash": "d4d1e4263499bec80672ea0156c357c1ee493ec2b1c70f0acce89fc37c4a6abe"
   }
  }
 },
 "nbformat": 4,
 "nbformat_minor": 2
}
